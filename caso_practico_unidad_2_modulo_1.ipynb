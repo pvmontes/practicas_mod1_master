{
 "cells": [
  {
   "cell_type": "code",
   "execution_count": 55,
   "metadata": {},
   "outputs": [
    {
     "name": "stdout",
     "output_type": "stream",
     "text": [
      "Por favor, introduzca el texto que se va a codificar:  casa del chato\n",
      "Introduzca un número para el desplazamiento de las letras:  4\n",
      "Introduzca un número para el desplazamiento de las palabras codificadas:  5\n",
      "['gewe', 'hip', 'glexs']\n",
      "Por favor, introduzca un desplazamiento de las palabras inferior número de palabras del texto:   2\n",
      "Resultado:  hip glexs gewe\n"
     ]
    }
   ],
   "source": [
    "#Solo voy a considerar palabras minúsculas. Podría convertir el texto de entrada a minúsculas o jugar también con las \n",
    "#mayúsculas. Lo dejo aquí.\n",
    "\n",
    "\n",
    "\n",
    "#Importamos este módulo para generar el abecedario\n",
    "import string\n",
    "\n",
    "\n",
    "#Declaración de variables.\n",
    "abecedario_minusculas = []\n",
    "abecedario_mayusculas = []\n",
    "texto_original_sin_espacios = []\n",
    "posicion = 0\n",
    "posiciones_texto_a_codificar = []\n",
    "posiciones_texto_codificado = []\n",
    "texto_codificado = \"\"\n",
    "texto_codificado_lista = []\n",
    "texto_codificado_lista_desplazada = []\n",
    "nueva_posicion_palabra = 0\n",
    "texto_cifrado = \"\"\n",
    "\n",
    "#Solicitamos los parámetros al usuario.\n",
    "texto_a_codificar=input(\"Por favor, introduzca el texto que se va a codificar:  \")\n",
    "desplazamiento_letras=int(input(\"Introduzca un número para el desplazamiento de las letras:  \"))\n",
    "desplazamiento_palabras_codificadas=int(input(\"Introduzca un número para el desplazamiento de las palabras codificadas:  \"))\n",
    "\n",
    "#Generamos una lista con el abecedario en minúsculas y otra con el mismo en mayúsculas.\n",
    "abecedario_minusculas = string.ascii_lowercase\n",
    "abecedario_mayusculas = string.ascii_uppercase\n",
    "\n",
    "#Guardamos el texto a codificar como una lista de palabras generada a partir de los espacios entre las mismas.\n",
    "texto_original_sin_espacios = texto_a_codificar.split(\" \")\n",
    "\n",
    "#Obtenemos la posición de cada letra del texto introducido y lo sustituimos por la letra correspondiente.\n",
    "for palabra in texto_original_sin_espacios:\n",
    "      i = 0\n",
    "      while i < len(palabra):\n",
    "           if palabra[i] in abecedario_minusculas:\n",
    "                  posicion = abecedario_minusculas.index(palabra[i])\n",
    "                  posiciones_texto_a_codificar.append(posicion)\n",
    "                  i += 1\n",
    "      posiciones_texto_a_codificar.append(\"-\")   #Separamos por palabras.  \n",
    "\n",
    "\n",
    "#Sustituimos la posición de las letras del texto original por su desplazamiento y las guardamos en una nueva lista.\n",
    "for pos in posiciones_texto_a_codificar:\n",
    "    if pos == \"-\":\n",
    "        posiciones_texto_codificado.append(\"-\")\n",
    "    elif pos != \"-\":  \n",
    "        posiciones_texto_codificado.append(pos + desplazamiento_letras)\n",
    "       \n",
    "    \n",
    "#Buscamos las letras en el abecedario en función de la nueva posición.\n",
    "for pos in posiciones_texto_codificado:\n",
    "    if pos == \"-\":\n",
    "        texto_codificado = texto_codificado + \" \"\n",
    "    elif pos != \"-\" and pos <= 25: \n",
    "        texto_codificado = texto_codificado + abecedario_minusculas[pos]\n",
    "    elif pos > 25: #Convertimos la lista en circular.\n",
    "        texto_codificado = texto_codificado + abecedario_minusculas[pos-len(abecedario_minusculas)]\n",
    "        \n",
    " #Eliminamos el espacio del final.\n",
    "texto_codificado = texto_codificado.rstrip(\" \") \n",
    "\n",
    "#Guardamos las palabras como una lista.        \n",
    "texto_codificado_lista = texto_codificado.split(\" \")\n",
    "#print(texto_codificado_lista)   #traza\n",
    "\n",
    "#Trasladamos las palabras codificadas y no permitimos que el desplazamiento de las palabras sea mayor que\n",
    "#el número de éstas.\n",
    "if len(texto_codificado_lista) > 1 and desplazamiento_palabras_codificadas < len(texto_codificado_lista):\n",
    "    for elemento in texto_codificado_lista:\n",
    "            nueva_posicion_palabra = texto_codificado_lista.index(elemento) + desplazamiento_palabras_codificadas\n",
    "            nueva_posicion_palabra = nueva_posicion_palabra - len(texto_codificado_lista)\n",
    "            texto_codificado_lista_desplazada.insert(nueva_posicion_palabra,texto_codificado_lista[texto_codificado_lista.index(elemento)])\n",
    "\n",
    "elif desplazamiento_palabras_codificadas >= len(texto_codificado_lista):\n",
    "    while desplazamiento_palabras_codificadas >= len(texto_codificado_lista):\n",
    "        desplazamiento_palabras_codificadas = int(input(\"Por favor, introduzca un desplazamiento de las palabras inferior número de palabras del texto:   \"))\n",
    "    \n",
    "    #Una vez que el usuario introduce un valor válido se realiza la traslación de las palabras.\n",
    "    for elemento in texto_codificado_lista:\n",
    "            nueva_posicion_palabra = texto_codificado_lista.index(elemento) + desplazamiento_palabras_codificadas\n",
    "            nueva_posicion_palabra = nueva_posicion_palabra - len(texto_codificado_lista)\n",
    "            texto_codificado_lista_desplazada.insert(nueva_posicion_palabra,texto_codificado_lista[texto_codificado_lista.index(elemento)])\n",
    "    \n",
    "    \n",
    "#Convertimos la lista en un string\n",
    "texto_cifrado = \" \".join(texto_codificado_lista_desplazada)\n",
    "print(\"Resultado: \", texto_cifrado)\n",
    "\n",
    "   \n",
    "\n"
   ]
  },
  {
   "cell_type": "markdown",
   "metadata": {},
   "source": [
    " "
   ]
  },
  {
   "cell_type": "code",
   "execution_count": null,
   "metadata": {
    "collapsed": true
   },
   "outputs": [],
   "source": []
  }
 ],
 "metadata": {
  "kernelspec": {
   "display_name": "Python 3",
   "language": "python",
   "name": "python3"
  },
  "language_info": {
   "codemirror_mode": {
    "name": "ipython",
    "version": 3
   },
   "file_extension": ".py",
   "mimetype": "text/x-python",
   "name": "python",
   "nbconvert_exporter": "python",
   "pygments_lexer": "ipython3",
   "version": "3.6.3"
  }
 },
 "nbformat": 4,
 "nbformat_minor": 2
}
